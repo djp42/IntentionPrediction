{
 "cells": [
  {
   "cell_type": "code",
   "execution_count": 3,
   "metadata": {},
   "outputs": [
    {
     "data": {
      "text/plain": [
       "Dict{Int64,String} with 5 entries:\n",
       "  7 => \"hdwy\"\n",
       "  4 => \"A\"\n",
       "  3 => \"V\"\n",
       "  5 => \"yaw\"\n",
       "  8 => \"dist\""
      ]
     },
     "execution_count": 3,
     "metadata": {},
     "output_type": "execute_result"
    }
   ],
   "source": [
    "using BayesNets\n",
    "using Discretizers\n",
    "using JLD2\n",
    "using DelimitedFiles\n",
    "\n",
    "basepath = \"../results/ByIntersection/\"\n",
    "doingPeach = false \n",
    "testnums = [\"000\"]#\"000\",\"001\",\"010\",\"011\", \"100\"]\n",
    "intersections = collect(1:9)\n",
    "test_intersections = collect(1:9)\n",
    "doSubtest = false #2500 features only\n",
    "\n",
    "function makePaths(basepath, testnums, intersections)\n",
    "    paths = []\n",
    "    for testnum in testnums\n",
    "        for intersection in intersections\n",
    "            push!(paths, string(basepath, testnum, \"/\", intersection))\n",
    "        end\n",
    "    end\n",
    "    return paths\n",
    "end\n",
    "\n",
    "paths = makePaths(basepath, testnums, intersections)\n",
    "\n",
    "typeToEdges = Dict(\n",
    "    \"V\"=>[0.0,0.5,20,40,60],\n",
    "    \"A\"=>[-5000,-20,-5,-0.5,0.5,5,20,5000],\n",
    "    \"dist\" => [0.0, 5, 25, 100, 500, 10000],\n",
    "    \"hdwy\" => [0.0, 5, 25, 100, 250, 10000],)\n",
    "idToType = Dict(\n",
    "    3=>\"V\",\n",
    "    4=>\"A\",\n",
    "    5=> \"yaw\",\n",
    "    #6 is indicator\n",
    "    7=> \"hdwy\",\n",
    "    8=> \"dist\",\n",
    ")\n"
   ]
  },
  {
   "cell_type": "code",
   "execution_count": 4,
   "metadata": {},
   "outputs": [
    {
     "data": {
      "text/plain": [
       "loadAllFeaturesTargets (generic function with 1 method)"
      ]
     },
     "execution_count": 4,
     "metadata": {},
     "output_type": "execute_result"
    }
   ],
   "source": [
    "\n",
    "\n",
    "#returns allFeatures, allTargets dictionaries wheren \"testnum/intersection\" are the keys\n",
    "function loadAllFeaturesTargets(paths)\n",
    "    allFeatures = Dict()\n",
    "    allTargets = Dict()\n",
    "    allFids = Dict()\n",
    "    nFids = 0\n",
    "    numFeatures = 0\n",
    "    for path in paths #path is result/ByIntersection/yyy/x\n",
    "        i = path[end-4:end]\n",
    "        f = open(\"$path/featuresAndTargets\")\n",
    "        allFeatures[i] = readdlm(f)\n",
    "        allTargets[i] = allFeatures[i][:,end]  #nextMove is the last thing only\n",
    "        allFeatures[i] = allFeatures[i][:,1:end-3]\n",
    "        \n",
    "        if doSubtest\n",
    "            allFeatures[i] = allFeatures[i][1:2500,:]\n",
    "            allTargets[i] = allTargets[i][1:2500,:]\n",
    "        end\n",
    "        close(f)\n",
    "        \n",
    "        if numFeatures == 0\n",
    "            numFeatures = length(allFeatures[i][1,:])\n",
    "        end\n",
    "    end\n",
    "    return allFeatures, allTargets, numFeatures\n",
    "end\n"
   ]
  },
  {
   "cell_type": "code",
   "execution_count": 5,
   "metadata": {},
   "outputs": [
    {
     "data": {
      "text/plain": [
       "makeDiscretizedThings (generic function with 1 method)"
      ]
     },
     "execution_count": 5,
     "metadata": {},
     "output_type": "execute_result"
    }
   ],
   "source": [
    "\n",
    "function makeDiscretizedThings(trainlines, testlines, trainactuals, testactuals, numFeatures,\n",
    "                                           indexToID, numYawBins, moveIndex)\n",
    "  allLines = vcat(trainlines, testlines)\n",
    "  allactuals = vcat(trainactuals, testactuals)\n",
    "  discAllLines = zeros(Int64, (length(trainlines[:,1])+length(testlines[:,1]), numFeatures+1))\n",
    "  discTrainlines = zeros(Int64, (length(trainlines[:,1]), numFeatures+1))\n",
    "  discTestlines = zeros(Int64, (length(testlines[:,1]), numFeatures+1))\n",
    "  for k in 1:numFeatures\n",
    "    id = indexToID[k]\n",
    "    if haskey(idToType, id) #if not, already discretized\n",
    "      F_type = idToType[id]\n",
    "      if haskey(typeToEdges, F_type)\n",
    "        Disc = LinearDiscretizer(typeToEdges[F_type])\n",
    "      else\n",
    "        Disc = LinearDiscretizer(binedges(DiscretizeUniformWidth(numYawBins),allLines[:,k]))\n",
    "      end\n",
    "      DiscretizedAll = encode(Disc, allLines[:,k])\n",
    "      DiscretizedTrain = encode(Disc, trainlines[:,k])\n",
    "      DiscretizedTest = encode(Disc, testlines[:,k])\n",
    "    else\n",
    "      #println(\"index \", k, \" has no id, aka already disc\")\n",
    "      DiscretizedAll = allLines[:,k]\n",
    "      DiscretizedTrain = trainlines[:,k]\n",
    "      DiscretizedTest = testlines[:,k]\n",
    "    end\n",
    "    discTrainlines[:,k] = encode(CategoricalDiscretizer(DiscretizedAll), DiscretizedTrain)\n",
    "    discTestlines[:,k] = encode(CategoricalDiscretizer(DiscretizedAll), DiscretizedTest)\n",
    "    discAllLines[:,k] = encode(CategoricalDiscretizer(DiscretizedAll), DiscretizedAll)\n",
    "  end\n",
    "  moveDiscretizer = CategoricalDiscretizer(trainactuals)\n",
    "  discTrainlines[:,moveIndex] = encode(moveDiscretizer,trainactuals)\n",
    "  discTestlines[:,moveIndex] = encode(moveDiscretizer,testactuals)\n",
    "  discAllLines[:,moveIndex] = encode(moveDiscretizer,allactuals)\n",
    "\n",
    "  alldata = convert(DataFrame, discAllLines) #used to find num bins\n",
    "  traindata = convert(DataFrame, discTrainlines)\n",
    "  testdata = convert(DataFrame, discTestlines)\n",
    "  return alldata, traindata, testdata, moveDiscretizer\n",
    "end\n"
   ]
  },
  {
   "cell_type": "code",
   "execution_count": 6,
   "metadata": {},
   "outputs": [
    {
     "data": {
      "text/plain": [
       "makeIndexToID (generic function with 1 method)"
      ]
     },
     "execution_count": 6,
     "metadata": {},
     "output_type": "execute_result"
    }
   ],
   "source": [
    "\n",
    "function makeIndexToID(numFeatures, testnum, laneTypeEncodedLen)\n",
    "    useLaneType = (testnum[1] == '1')\n",
    "    useHist = (testnum[2] == '1')\n",
    "    useTraffic = (testnum[3] == '1')\n",
    "    println(testnum, useLaneType, useHist, useTraffic)\n",
    "    indexToID = zeros(Int64, (1, numFeatures+1+laneTypeEncodedLen))   #+1 for when no lane type, shift needs buffer\n",
    "    coreLen = 8\n",
    "    if useLaneType\n",
    "        coreLen += laneTypeEncodedLen\n",
    "    end\n",
    "    histLen = 9 #indicator is first\n",
    "    numHist = 4\n",
    "    totHist = histLen * numHist\n",
    "    traffLen = 8\n",
    "    #base = lane, lane, v, a, yaw, 1{hdwy}, hdwy, dist\n",
    "    #hist is the same, 4 times\n",
    "    #traffic is dx, dy, v, a, yaw, 1{hdwy}, hdwy\n",
    "    for index in 1:numFeatures\n",
    "        ID = index\n",
    "        if index <= coreLen\n",
    "          if useLaneType\n",
    "            if index > 4\n",
    "              ID -= laneTypeEncodedLen\n",
    "            else #laneTypeEncoding features are 0 ID\n",
    "              ID = 0 \n",
    "            end\n",
    "          end\n",
    "          ID += 1 #because all others get shifted, limits amount of confusion i think\n",
    "        elseif useHist == false\n",
    "          ID = ((index - coreLen) % traffLen)\n",
    "          if ID == 0\n",
    "            ID = traffLen\n",
    "          elseif ID == 2 || ID == 3\n",
    "            ID = 9 #distance + 1\n",
    "          end\n",
    "        elseif useHist && index <= coreLen + totHist\n",
    "            ID = ((index - coreLen) % histLen)\n",
    "            if ID == 0\n",
    "                ID = histLen\n",
    "            end\n",
    "        else  #use hist and in traffic section\n",
    "          ID = ((index - (coreLen + totHist)) % traffLen)\n",
    "          if ID == 0\n",
    "            ID = traffLen\n",
    "          elseif ID == 2 || ID == 3\n",
    "            ID = 9 #distance + 1\n",
    "          end\n",
    "        end\n",
    "        ID -= 1 #shift for indicator at front of each traff\n",
    "        indexToID[index] = ID\n",
    "    end\n",
    "    #for i in 1:numFeatures\n",
    "    #    id = indexToID[i]\n",
    "    #    println(\"index: \",i, \"id: \", id)\n",
    "    #    if haskey(idToType, id) \n",
    "    #        println(\"key:\", idToType[id])\n",
    "    #    end\n",
    "    #end\n",
    "    return indexToID\n",
    "end"
   ]
  },
  {
   "cell_type": "code",
   "execution_count": 7,
   "metadata": {},
   "outputs": [
    {
     "name": "stdout",
     "output_type": "stream",
     "text": [
      "Loading features/targets for BN\n",
      "Done loading features/targets for BN\n",
      "NumFeatures == 8\n",
      "000falsefalsefalse\n",
      "index to ID dict: \n",
      " [1 2 3 4 5 6 7 8 0 0 0 0 0]\n",
      "Done making discretizer dictionaries\n",
      "Starting feature/target formatting for CV #: 000/1\n",
      "Done feature/target formatting for CV #: 000/1\n",
      "Starting to discretize for CV #: 000/1\n",
      "Done discretizing for CV #: 000/1\n",
      "Starting to fit BN for CV #: 000/1\n",
      "Max parents: 8\n",
      "Done fitting params, starting to fit BN\n",
      "Done fitting BN for CV #: 000/1\n"
     ]
    },
    {
     "ename": "MethodError",
     "evalue": "MethodError: no method matching pdf(::BayesNet{CategoricalCPD{DiscreteNonParametric{Int64,Float64,Base.OneTo{Int64},Array{Float64,1}}}}, ::DataFrameRow{DataFrame,DataFrames.Index})\nClosest candidates are:\n  pdf(::BayesNet, !Matched::Dict{Symbol,Any}) at /home/ngsim_env_user/.julia/packages/BayesNets/S7a4X/src/bayes_nets.jl:312\n  pdf(::ProbabilisticGraphicalModel, !Matched::Dict{Symbol,Any}) at /home/ngsim_env_user/.julia/packages/BayesNets/S7a4X/src/ProbabilisticGraphicalModels/ProbabilisticGraphicalModels.jl:71\n  pdf(::ProbabilisticGraphicalModel, !Matched::Pair{Symbol,B} where B...) at /home/ngsim_env_user/.julia/packages/BayesNets/S7a4X/src/ProbabilisticGraphicalModels/ProbabilisticGraphicalModels.jl:72\n  ...",
     "output_type": "error",
     "traceback": [
      "MethodError: no method matching pdf(::BayesNet{CategoricalCPD{DiscreteNonParametric{Int64,Float64,Base.OneTo{Int64},Array{Float64,1}}}}, ::DataFrameRow{DataFrame,DataFrames.Index})\nClosest candidates are:\n  pdf(::BayesNet, !Matched::Dict{Symbol,Any}) at /home/ngsim_env_user/.julia/packages/BayesNets/S7a4X/src/bayes_nets.jl:312\n  pdf(::ProbabilisticGraphicalModel, !Matched::Dict{Symbol,Any}) at /home/ngsim_env_user/.julia/packages/BayesNets/S7a4X/src/ProbabilisticGraphicalModels/ProbabilisticGraphicalModels.jl:71\n  pdf(::ProbabilisticGraphicalModel, !Matched::Pair{Symbol,B} where B...) at /home/ngsim_env_user/.julia/packages/BayesNets/S7a4X/src/ProbabilisticGraphicalModels/ProbabilisticGraphicalModels.jl:72\n  ...",
      "",
      "Stacktrace:",
      " [1] top-level scope at In[7]:90"
     ]
    }
   ],
   "source": [
    "#big for loop\n",
    "println(\"Loading features/targets for BN\")\n",
    "allFeatures, allTargets, numFeatures = loadAllFeaturesTargets(paths)\n",
    "println(\"Done loading features/targets for BN\")\n",
    "println(\"NumFeatures == \", numFeatures)\n",
    "for inter in test_intersections\n",
    "  for testnum in testnums\n",
    "      i = string(testnum, \"/\", inter)\n",
    "      scorename = \"Ypred_BN\"\n",
    "      scorePath = string(\"$basepath\",testnum, \"/TestOn$inter\",\"/$scorename\")\n",
    "      f = open(scorePath, \"w\")\n",
    "      #truncate score file\n",
    "      close(f)\n",
    "      moveCats = [1,2,3]\n",
    "      numNextMoves = length(moveCats)\n",
    "      useLaneType = false\n",
    "      if testnum[1] == \"1\"\n",
    "        useLaneType = true\n",
    "      end\n",
    "      laneTypeIndex = 3\n",
    "      laneTypeEncodedLen = length([0,0,0,0])\n",
    "      numYawBins = 7\n",
    "      #truncate the log file\n",
    "      numFeatures = length(allFeatures[i][1,:])  \n",
    "      indexToID = makeIndexToID(numFeatures, testnum, laneTypeEncodedLen)\n",
    "      \n",
    "      println(\"index to ID dict: \\n \",indexToID)\n",
    "      \n",
    "      moveIndex = numFeatures+1\n",
    "\n",
    "      println(\"Done making discretizer dictionaries\")\n",
    "      println(\"Starting feature/target formatting for CV #: $i\")\n",
    "      testlines = allFeatures[i]\n",
    "      testactuals = allTargets[i]\n",
    "\n",
    "      trainlines = zeros(Float64, (1,numFeatures))\n",
    "      trainactuals = zeros(Float64, (1,numFeatures))\n",
    "      first = true\n",
    "      for other_inter in intersections\n",
    "        if other_inter != inter  #the train lines are all that are not test\n",
    "          j = string(testnum, \"/\", other_inter)\n",
    "          if first == true\n",
    "            trainlines = allFeatures[j]\n",
    "            trainactuals = allTargets[j]\n",
    "            first = false\n",
    "          else\n",
    "            trainlines = vcat(trainlines, allFeatures[j])\n",
    "            trainactuals = vcat(trainactuals, allTargets[j])\n",
    "          end\n",
    "        end\n",
    "      end\n",
    "      println(\"Done feature/target formatting for CV #: $i\")\n",
    "\n",
    "      println(\"Starting to discretize for CV #: $i\")\n",
    "      alldata, traindata, testdata, moveDiscretizer = makeDiscretizedThings(trainlines, testlines, trainactuals, testactuals, \n",
    "                                                           numFeatures, indexToID, numYawBins, moveIndex)\n",
    "\n",
    "      println(\"Done discretizing for CV #: $i\")\n",
    "      println(\"Starting to fit BN for CV #: $i\")\n",
    "      max_parents = numFeatures\n",
    "      #max_parents = min(numFeatures, max_parents)\n",
    "      println(\"Max parents: \", max_parents)\n",
    "\n",
    "      params = GreedyHillClimbing(\n",
    "        ScoreComponentCache(traindata), \n",
    "        max_n_parents=max_parents, \n",
    "        prior=UniformPrior())\n",
    "      println(\"Done fitting params, starting to fit BN\")\n",
    "      num_bins_all = map!(\n",
    "        i->infer_number_of_instantiations(alldata[i]), \n",
    "        Array{Int64}(undef, ncol(alldata)), \n",
    "        1:ncol(alldata)\n",
    "        )\n",
    "      #bnDis = fit(DiscreteBayesNet, traindata, params, moveIndex, ncategories=num_bins_all)\n",
    "      bnDis = fit(DiscreteBayesNet, traindata, params, ncategories=num_bins_all)\n",
    "      println(\"Done fitting BN for CV #: $i\")\n",
    "      #JLD2.save(string(\"$basepath$i\",\"/BN_model.jld\"), \"bnDis\", bnDis)\n",
    "      score = 0\n",
    "      numNaN = 0\n",
    "      nrows = length(testlines[:,1])\n",
    "      moveCats = unique(collect(testdata[:,moveIndex]))\n",
    "      numNextMoves = 3#length(moveCats)\n",
    "      numRight = 0\n",
    "      for index in 1:nrows\n",
    "          actualNextMove = convert(Int64,decode(moveDiscretizer,testdata[index,moveIndex]))\n",
    "          p_dists = zeros(Float64, (1, numNextMoves))\n",
    "          for move in moveCats\n",
    "            featureline = testdata[index,:]\n",
    "            featureline[moveIndex] = encode(moveDiscretizer, move)\n",
    "            p_dists[move] = pdf(bnDis, featureline)\n",
    "          end\n",
    "          for x in p_dists\n",
    "            if !(x > 1) && !(x < 1) && !(x == 1)\n",
    "              p_dists = [1.0/numNextMoves for i in 1:numNextMoves]\n",
    "              numNaN += 1\n",
    "              break\n",
    "            end\n",
    "          end\n",
    "          p_dists = p_dists ./ sum(p_dists)\n",
    "          p_right = p_dists[actualNextMove]\n",
    "          score += (1 - p_right)\n",
    "          if p_right == maximum(p_dists)\n",
    "              numRight += 1\n",
    "          end\n",
    "          scoref = open(scorePath, \"a\")\n",
    "          writedlm(scoref, p_dists)\n",
    "          close(scoref)\n",
    "      end\n",
    "      println(\"Score:\", score)\n",
    "      println(\"Num Right:\", numRight)\n",
    "      println(\"Num Predicitons:\", nrows)\n",
    "      println(\"Num NaN:\", numNaN)\n",
    "      scoref = open(\"$basepath$i/$scorename\", \"a\")\n",
    "      #writedlm(scoref, score)\n",
    "      #writedlm(scoref, numNaN)\n",
    "      close(scoref)\n",
    "      println(\"Done scoring BN for CV #: $i\")\n",
    "    end #end over testnums\n",
    "    println(\"Done with intersection\", inter)\n",
    "end  #end over intersections\n",
    "\n",
    "\n"
   ]
  },
  {
   "cell_type": "code",
   "execution_count": 12,
   "metadata": {},
   "outputs": [
    {
     "name": "stdout",
     "output_type": "stream",
     "text": [
      "Loading features/targets for BN\n",
      "Done loading features/targets for BN\n",
      "NumFeatures == 8\n",
      "000falsefalsefalse\n",
      "index to ID dict: \n",
      " [1 2 3 4 5 6 7 8 0 0 0 0 0]\n",
      "Done making discretizer dictionaries\n",
      "Starting feature/target formatting for CV #: 000/1\n",
      "Done feature/target formatting for CV #: 000/1\n",
      "Starting to discretize for CV #: 000/1\n",
      "Done discretizing for CV #: 000/1\n",
      "Starting to fit BN for CV #: 000/1\n",
      "Max parents: 8\n",
      "Done fitting params, starting to fit BN\n",
      "Done fitting BN for CV #: 000/1\n"
     ]
    }
   ],
   "source": [
    "#big for loop\n",
    "println(\"Loading features/targets for BN\")\n",
    "allFeatures, allTargets, numFeatures = loadAllFeaturesTargets(paths)\n",
    "println(\"Done loading features/targets for BN\")\n",
    "println(\"NumFeatures == \", numFeatures)\n",
    "inter = test_intersections[1]\n",
    "testnum = testnums[1]\n",
    "i = string(testnum, \"/\", inter)\n",
    "scorename = \"Ypred_BN\"\n",
    "scorePath = string(\"$basepath\",testnum, \"/TestOn$inter\",\"/$scorename\")\n",
    "f = open(scorePath, \"w\")\n",
    "#truncate score file\n",
    "close(f)\n",
    "moveCats = [1,2,3]\n",
    "numNextMoves = length(moveCats)\n",
    "useLaneType = false\n",
    "if testnum[1] == \"1\"\n",
    "useLaneType = true\n",
    "end\n",
    "laneTypeIndex = 3\n",
    "laneTypeEncodedLen = length([0,0,0,0])\n",
    "numYawBins = 7\n",
    "#truncate the log file\n",
    "numFeatures = length(allFeatures[i][1,:])  \n",
    "indexToID = makeIndexToID(numFeatures, testnum, laneTypeEncodedLen)\n",
    "\n",
    "println(\"index to ID dict: \\n \",indexToID)\n",
    "\n",
    "moveIndex = numFeatures+1\n",
    "\n",
    "println(\"Done making discretizer dictionaries\")\n",
    "println(\"Starting feature/target formatting for CV #: $i\")\n",
    "testlines = allFeatures[i]\n",
    "testactuals = allTargets[i]\n",
    "\n",
    "trainlines = zeros(Float64, (1,numFeatures))\n",
    "trainactuals = zeros(Float64, (1,numFeatures))\n",
    "first = true\n",
    "for other_inter in intersections\n",
    "if other_inter != inter  #the train lines are all that are not test\n",
    "  j = string(testnum, \"/\", other_inter)\n",
    "  if first == true\n",
    "    trainlines = allFeatures[j]\n",
    "    trainactuals = allTargets[j]\n",
    "    first = false\n",
    "  else\n",
    "    trainlines = vcat(trainlines, allFeatures[j])\n",
    "    trainactuals = vcat(trainactuals, allTargets[j])\n",
    "  end\n",
    "end\n",
    "end\n",
    "println(\"Done feature/target formatting for CV #: $i\")\n",
    "\n",
    "println(\"Starting to discretize for CV #: $i\")\n",
    "alldata, traindata, testdata, moveDiscretizer = makeDiscretizedThings(trainlines, testlines, trainactuals, testactuals, \n",
    "                                                   numFeatures, indexToID, numYawBins, moveIndex)\n",
    "\n",
    "println(\"Done discretizing for CV #: $i\")\n",
    "println(\"Starting to fit BN for CV #: $i\")\n",
    "max_parents = numFeatures\n",
    "#max_parents = min(numFeatures, max_parents)\n",
    "println(\"Max parents: \", max_parents)\n",
    "\n",
    "params = GreedyHillClimbing(\n",
    "ScoreComponentCache(traindata), \n",
    "max_n_parents=max_parents, \n",
    "prior=UniformPrior())\n",
    "println(\"Done fitting params, starting to fit BN\")\n",
    "num_bins_all = map!(\n",
    "i->infer_number_of_instantiations(alldata[i]), \n",
    "Array{Int64}(undef, ncol(alldata)), \n",
    "1:ncol(alldata)\n",
    ")\n",
    "#bnDis = fit(DiscreteBayesNet, traindata, params, moveIndex, ncategories=num_bins_all)\n",
    "bnDis = fit(DiscreteBayesNet, traindata, params, ncategories=num_bins_all)\n",
    "println(\"Done fitting BN for CV #: $i\")\n",
    "#JLD2.save(string(\"$basepath$i\",\"/BN_model.jld\"), \"bnDis\", bnDis)\n",
    "\n"
   ]
  },
  {
   "cell_type": "code",
   "execution_count": 35,
   "metadata": {},
   "outputs": [
    {
     "name": "stdout",
     "output_type": "stream",
     "text": [
      "Score:4074.5799458555894\n",
      "Num Right:45833\n",
      "Num Predicitons:49420\n",
      "Num NaN:0\n",
      "Done scoring BN for CV #: 000/1\n"
     ]
    }
   ],
   "source": [
    "score = 0\n",
    "numNaN = 0\n",
    "nrows = length(testlines[:,1])\n",
    "moveCats = unique(collect(testdata[:,moveIndex]))\n",
    "numNextMoves = 3#length(moveCats)\n",
    "numRight = 0\n",
    "for index in 1:nrows\n",
    "  actualNextMove = convert(Int64,decode(moveDiscretizer,testdata[index,moveIndex]))\n",
    "  p_dists = zeros(Float64, (1, numNextMoves))\n",
    "  for move in moveCats\n",
    "    featureline = testdata[index,:]\n",
    "    featureline[moveIndex] = encode(moveDiscretizer, move)\n",
    "    p_dists[move] = pdf(bnDis, DataFrame(featureline))\n",
    "  end\n",
    "  for x in p_dists\n",
    "    if !(x > 1) && !(x < 1) && !(x == 1)\n",
    "      p_dists = [1.0/numNextMoves for i in 1:numNextMoves]\n",
    "      numNaN += 1\n",
    "      break\n",
    "    end\n",
    "  end\n",
    "  p_dists = p_dists ./ sum(p_dists)\n",
    "  p_right = p_dists[actualNextMove]\n",
    "  score += (1 - p_right)\n",
    "  if p_right == maximum(p_dists)\n",
    "      numRight += 1\n",
    "  end\n",
    "  scoref = open(scorePath, \"a\")\n",
    "  writedlm(scoref, p_dists)\n",
    "  close(scoref)\n",
    "end\n",
    "println(\"Score:\", score)\n",
    "println(\"Num Right:\", numRight)\n",
    "println(\"Num Predicitons:\", nrows)\n",
    "println(\"Num NaN:\", numNaN)\n",
    "scoref = open(\"$basepath$i/$scorename\", \"a\")\n",
    "#writedlm(scoref, score)\n",
    "#writedlm(scoref, numNaN)\n",
    "close(scoref)\n",
    "println(\"Done scoring BN for CV #: $i\")\n"
   ]
  },
  {
   "cell_type": "code",
   "execution_count": 14,
   "metadata": {},
   "outputs": [
    {
     "data": {
      "text/plain": [
       "BayesNet{CategoricalCPD{DiscreteNonParametric{Int64,Float64,Base.OneTo{Int64},Array{Float64,1}}}}({9, 30} directed simple Int64 graph, CategoricalCPD{DiscreteNonParametric{Int64,Float64,Base.OneTo{Int64},Array{Float64,1}}}[2 instantiations:\n",
       "  x6 (2), 10 instantiations:\n",
       "  x7 (5)\n",
       "  x6 (2), 70 instantiations:\n",
       "  x1 (7)\n",
       "  x6 (2)\n",
       "  x7 (5), 490 instantiations:\n",
       "  x2 (7)\n",
       "  x1 (7)\n",
       "  x6 (2)\n",
       "  x7 (5), 735 instantiations:\n",
       "  x9 (3)\n",
       "  x1 (7)\n",
       "  x2 (7)\n",
       "  x7 (5), 5145 instantiations:\n",
       "  x5 (7)\n",
       "  x1 (7)\n",
       "  x2 (7)\n",
       "  x7 (5)\n",
       "  x9 (3), 51450 instantiations:\n",
       "  x8 (5)\n",
       "  x1 (7)\n",
       "  x2 (7)\n",
       "  x5 (7)\n",
       "  x6 (2)\n",
       "  x7 (5)\n",
       "  x9 (3), 205800 instantiations:\n",
       "  x3 (4)\n",
       "  x1 (7)\n",
       "  x2 (7)\n",
       "  x5 (7)\n",
       "  x6 (2)\n",
       "  x7 (5)\n",
       "  x8 (5)\n",
       "  x9 (3), 4900 instantiations:\n",
       "  x4 (5)\n",
       "  x1 (7)\n",
       "  x2 (7)\n",
       "  x3 (4)\n",
       "  x8 (5)], Dict(:x9=>5,:x6=>1,:x2=>4,:x7=>2,:x5=>6,:x8=>7,:x3=>8,:x4=>9,:x1=>3))"
      ]
     },
     "execution_count": 14,
     "metadata": {},
     "output_type": "execute_result"
    },
    {
     "name": "stdout",
     "output_type": "stream",
     "text": [
      "! LaTeX Error: File `standalone.cls' not found.\n",
      "\n",
      "Type X to quit or <RETURN> to proceed,\n",
      "or enter new name. (Default extension: cls)\n",
      "\n",
      "Enter file name: \n",
      "! Emergency stop.\n",
      "<read *> \n",
      "   \n",
      "l.2 \\usepackage\n",
      "             {fontspec}\r\n",
      "End of file on the terminal!\n",
      "\n",
      "\n",
      "\n",
      "Here is how much of LuaTeX's memory you used:\n",
      " 14 strings out of 494413\n",
      " 100000,89155 words of node,token memory allocated 241 words of node memory still in use:\n",
      "   1 dir, 34 glue_spec nodes\n",
      "   avail lists: 2:12,3:1,4:1\n",
      " 4304 multiletter control sequences out of 65536+600000\n",
      " 14 fonts using 591559 bytes\n",
      " 10i,0n,7p,69b,15s stack positions out of 5000i,500n,10000p,200000b,100000s\n",
      "!  ==> Fatal error occurred, no output PDF file produced!\n",
      "\n"
     ]
    }
   ],
   "source": [
    "bnDis"
   ]
  },
  {
   "cell_type": "code",
   "execution_count": 16,
   "metadata": {},
   "outputs": [
    {
     "data": {
      "text/plain": [
       "1"
      ]
     },
     "execution_count": 16,
     "metadata": {},
     "output_type": "execute_result"
    }
   ],
   "source": [
    "index = 1\n",
    "move = moveCats[1]\n",
    "featureline = testdata[index,:]\n",
    "featureline[moveIndex] = encode(moveDiscretizer, move)\n",
    "    "
   ]
  },
  {
   "cell_type": "code",
   "execution_count": 24,
   "metadata": {},
   "outputs": [
    {
     "data": {
      "text/plain": [
       "DataFrame"
      ]
     },
     "execution_count": 24,
     "metadata": {},
     "output_type": "execute_result"
    }
   ],
   "source": [
    "typeof(testdata)"
   ]
  },
  {
   "cell_type": "code",
   "execution_count": 27,
   "metadata": {},
   "outputs": [
    {
     "data": {
      "text/plain": [
       "1×3 Array{Float64,2}:\n",
       " 0.0  0.0  0.0"
      ]
     },
     "execution_count": 27,
     "metadata": {},
     "output_type": "execute_result"
    }
   ],
   "source": [
    "actualNextMove = convert(Int64,decode(moveDiscretizer,testdata[index,moveIndex]))\n",
    "p_dists = zeros(Float64, (1, numNextMoves))\n"
   ]
  },
  {
   "cell_type": "code",
   "execution_count": 30,
   "metadata": {},
   "outputs": [
    {
     "data": {
      "text/plain": [
       "0.0"
      ]
     },
     "execution_count": 30,
     "metadata": {},
     "output_type": "execute_result"
    }
   ],
   "source": [
    "pdf(bnDis, testdata)"
   ]
  },
  {
   "cell_type": "code",
   "execution_count": 31,
   "metadata": {},
   "outputs": [
    {
     "data": {
      "text/html": [
       "<table class=\"data-frame\"><thead><tr><th></th><th>x1</th><th>x2</th><th>x3</th><th>x4</th><th>x5</th><th>x6</th><th>x7</th><th>x8</th><th>x9</th></tr><tr><th></th><th>Int64</th><th>Int64</th><th>Int64</th><th>Int64</th><th>Int64</th><th>Int64</th><th>Int64</th><th>Int64</th><th>Int64</th></tr></thead><tbody><p>49,420 rows × 9 columns</p><tr><th>1</th><td>2</td><td>2</td><td>3</td><td>2</td><td>1</td><td>2</td><td>5</td><td>3</td><td>1</td></tr><tr><th>2</th><td>2</td><td>2</td><td>3</td><td>2</td><td>1</td><td>2</td><td>5</td><td>3</td><td>1</td></tr><tr><th>3</th><td>2</td><td>2</td><td>3</td><td>2</td><td>1</td><td>2</td><td>5</td><td>3</td><td>1</td></tr><tr><th>4</th><td>2</td><td>2</td><td>3</td><td>2</td><td>1</td><td>2</td><td>5</td><td>3</td><td>1</td></tr><tr><th>5</th><td>2</td><td>2</td><td>3</td><td>2</td><td>1</td><td>2</td><td>3</td><td>3</td><td>1</td></tr><tr><th>6</th><td>2</td><td>2</td><td>3</td><td>2</td><td>1</td><td>2</td><td>3</td><td>3</td><td>1</td></tr><tr><th>7</th><td>2</td><td>2</td><td>4</td><td>5</td><td>1</td><td>2</td><td>3</td><td>3</td><td>1</td></tr><tr><th>8</th><td>2</td><td>2</td><td>4</td><td>2</td><td>1</td><td>2</td><td>3</td><td>3</td><td>1</td></tr><tr><th>9</th><td>2</td><td>2</td><td>4</td><td>2</td><td>1</td><td>2</td><td>3</td><td>3</td><td>1</td></tr><tr><th>10</th><td>2</td><td>2</td><td>4</td><td>5</td><td>1</td><td>2</td><td>3</td><td>3</td><td>1</td></tr><tr><th>11</th><td>2</td><td>2</td><td>4</td><td>3</td><td>1</td><td>2</td><td>3</td><td>3</td><td>1</td></tr><tr><th>12</th><td>2</td><td>2</td><td>4</td><td>1</td><td>1</td><td>2</td><td>3</td><td>3</td><td>1</td></tr><tr><th>13</th><td>2</td><td>2</td><td>4</td><td>2</td><td>1</td><td>2</td><td>3</td><td>3</td><td>1</td></tr><tr><th>14</th><td>2</td><td>2</td><td>4</td><td>5</td><td>1</td><td>2</td><td>3</td><td>3</td><td>1</td></tr><tr><th>15</th><td>2</td><td>2</td><td>4</td><td>1</td><td>1</td><td>2</td><td>3</td><td>3</td><td>1</td></tr><tr><th>16</th><td>2</td><td>2</td><td>4</td><td>2</td><td>1</td><td>2</td><td>3</td><td>3</td><td>1</td></tr><tr><th>17</th><td>2</td><td>2</td><td>4</td><td>2</td><td>1</td><td>2</td><td>3</td><td>3</td><td>1</td></tr><tr><th>18</th><td>2</td><td>2</td><td>4</td><td>3</td><td>1</td><td>2</td><td>3</td><td>3</td><td>1</td></tr><tr><th>19</th><td>2</td><td>2</td><td>1</td><td>1</td><td>1</td><td>2</td><td>3</td><td>4</td><td>1</td></tr><tr><th>20</th><td>2</td><td>2</td><td>1</td><td>3</td><td>1</td><td>2</td><td>3</td><td>4</td><td>1</td></tr><tr><th>21</th><td>2</td><td>2</td><td>4</td><td>4</td><td>1</td><td>2</td><td>5</td><td>3</td><td>1</td></tr><tr><th>22</th><td>2</td><td>2</td><td>4</td><td>4</td><td>1</td><td>2</td><td>5</td><td>3</td><td>1</td></tr><tr><th>23</th><td>2</td><td>2</td><td>4</td><td>1</td><td>1</td><td>2</td><td>5</td><td>3</td><td>1</td></tr><tr><th>24</th><td>2</td><td>2</td><td>3</td><td>4</td><td>1</td><td>2</td><td>5</td><td>3</td><td>1</td></tr><tr><th>25</th><td>2</td><td>2</td><td>4</td><td>1</td><td>1</td><td>2</td><td>5</td><td>3</td><td>1</td></tr><tr><th>26</th><td>2</td><td>2</td><td>3</td><td>3</td><td>1</td><td>2</td><td>5</td><td>3</td><td>1</td></tr><tr><th>27</th><td>2</td><td>2</td><td>3</td><td>2</td><td>1</td><td>2</td><td>5</td><td>3</td><td>1</td></tr><tr><th>28</th><td>2</td><td>2</td><td>3</td><td>2</td><td>1</td><td>2</td><td>5</td><td>3</td><td>1</td></tr><tr><th>29</th><td>2</td><td>2</td><td>3</td><td>2</td><td>1</td><td>2</td><td>5</td><td>3</td><td>1</td></tr><tr><th>30</th><td>2</td><td>2</td><td>3</td><td>2</td><td>1</td><td>2</td><td>5</td><td>3</td><td>1</td></tr><tr><th>&vellip;</th><td>&vellip;</td><td>&vellip;</td><td>&vellip;</td><td>&vellip;</td><td>&vellip;</td><td>&vellip;</td><td>&vellip;</td><td>&vellip;</td><td>&vellip;</td></tr></tbody></table>"
      ],
      "text/latex": [
       "\\begin{tabular}{r|ccccccccc}\n",
       "\t& x1 & x2 & x3 & x4 & x5 & x6 & x7 & x8 & x9\\\\\n",
       "\t\\hline\n",
       "\t& Int64 & Int64 & Int64 & Int64 & Int64 & Int64 & Int64 & Int64 & Int64\\\\\n",
       "\t\\hline\n",
       "\t1 & 2 & 2 & 3 & 2 & 1 & 2 & 5 & 3 & 1 \\\\\n",
       "\t2 & 2 & 2 & 3 & 2 & 1 & 2 & 5 & 3 & 1 \\\\\n",
       "\t3 & 2 & 2 & 3 & 2 & 1 & 2 & 5 & 3 & 1 \\\\\n",
       "\t4 & 2 & 2 & 3 & 2 & 1 & 2 & 5 & 3 & 1 \\\\\n",
       "\t5 & 2 & 2 & 3 & 2 & 1 & 2 & 3 & 3 & 1 \\\\\n",
       "\t6 & 2 & 2 & 3 & 2 & 1 & 2 & 3 & 3 & 1 \\\\\n",
       "\t7 & 2 & 2 & 4 & 5 & 1 & 2 & 3 & 3 & 1 \\\\\n",
       "\t8 & 2 & 2 & 4 & 2 & 1 & 2 & 3 & 3 & 1 \\\\\n",
       "\t9 & 2 & 2 & 4 & 2 & 1 & 2 & 3 & 3 & 1 \\\\\n",
       "\t10 & 2 & 2 & 4 & 5 & 1 & 2 & 3 & 3 & 1 \\\\\n",
       "\t11 & 2 & 2 & 4 & 3 & 1 & 2 & 3 & 3 & 1 \\\\\n",
       "\t12 & 2 & 2 & 4 & 1 & 1 & 2 & 3 & 3 & 1 \\\\\n",
       "\t13 & 2 & 2 & 4 & 2 & 1 & 2 & 3 & 3 & 1 \\\\\n",
       "\t14 & 2 & 2 & 4 & 5 & 1 & 2 & 3 & 3 & 1 \\\\\n",
       "\t15 & 2 & 2 & 4 & 1 & 1 & 2 & 3 & 3 & 1 \\\\\n",
       "\t16 & 2 & 2 & 4 & 2 & 1 & 2 & 3 & 3 & 1 \\\\\n",
       "\t17 & 2 & 2 & 4 & 2 & 1 & 2 & 3 & 3 & 1 \\\\\n",
       "\t18 & 2 & 2 & 4 & 3 & 1 & 2 & 3 & 3 & 1 \\\\\n",
       "\t19 & 2 & 2 & 1 & 1 & 1 & 2 & 3 & 4 & 1 \\\\\n",
       "\t20 & 2 & 2 & 1 & 3 & 1 & 2 & 3 & 4 & 1 \\\\\n",
       "\t21 & 2 & 2 & 4 & 4 & 1 & 2 & 5 & 3 & 1 \\\\\n",
       "\t22 & 2 & 2 & 4 & 4 & 1 & 2 & 5 & 3 & 1 \\\\\n",
       "\t23 & 2 & 2 & 4 & 1 & 1 & 2 & 5 & 3 & 1 \\\\\n",
       "\t24 & 2 & 2 & 3 & 4 & 1 & 2 & 5 & 3 & 1 \\\\\n",
       "\t25 & 2 & 2 & 4 & 1 & 1 & 2 & 5 & 3 & 1 \\\\\n",
       "\t26 & 2 & 2 & 3 & 3 & 1 & 2 & 5 & 3 & 1 \\\\\n",
       "\t27 & 2 & 2 & 3 & 2 & 1 & 2 & 5 & 3 & 1 \\\\\n",
       "\t28 & 2 & 2 & 3 & 2 & 1 & 2 & 5 & 3 & 1 \\\\\n",
       "\t29 & 2 & 2 & 3 & 2 & 1 & 2 & 5 & 3 & 1 \\\\\n",
       "\t30 & 2 & 2 & 3 & 2 & 1 & 2 & 5 & 3 & 1 \\\\\n",
       "\t$\\dots$ & $\\dots$ & $\\dots$ & $\\dots$ & $\\dots$ & $\\dots$ & $\\dots$ & $\\dots$ & $\\dots$ & $\\dots$ \\\\\n",
       "\\end{tabular}\n"
      ],
      "text/plain": [
       "49420×9 DataFrame. Omitted printing of 1 columns\n",
       "│ Row   │ x1    │ x2    │ x3    │ x4    │ x5    │ x6    │ x7    │ x8    │\n",
       "│       │ \u001b[90mInt64\u001b[39m │ \u001b[90mInt64\u001b[39m │ \u001b[90mInt64\u001b[39m │ \u001b[90mInt64\u001b[39m │ \u001b[90mInt64\u001b[39m │ \u001b[90mInt64\u001b[39m │ \u001b[90mInt64\u001b[39m │ \u001b[90mInt64\u001b[39m │\n",
       "├───────┼───────┼───────┼───────┼───────┼───────┼───────┼───────┼───────┤\n",
       "│ 1     │ 2     │ 2     │ 3     │ 2     │ 1     │ 2     │ 5     │ 3     │\n",
       "│ 2     │ 2     │ 2     │ 3     │ 2     │ 1     │ 2     │ 5     │ 3     │\n",
       "│ 3     │ 2     │ 2     │ 3     │ 2     │ 1     │ 2     │ 5     │ 3     │\n",
       "│ 4     │ 2     │ 2     │ 3     │ 2     │ 1     │ 2     │ 5     │ 3     │\n",
       "│ 5     │ 2     │ 2     │ 3     │ 2     │ 1     │ 2     │ 3     │ 3     │\n",
       "│ 6     │ 2     │ 2     │ 3     │ 2     │ 1     │ 2     │ 3     │ 3     │\n",
       "│ 7     │ 2     │ 2     │ 4     │ 5     │ 1     │ 2     │ 3     │ 3     │\n",
       "│ 8     │ 2     │ 2     │ 4     │ 2     │ 1     │ 2     │ 3     │ 3     │\n",
       "│ 9     │ 2     │ 2     │ 4     │ 2     │ 1     │ 2     │ 3     │ 3     │\n",
       "│ 10    │ 2     │ 2     │ 4     │ 5     │ 1     │ 2     │ 3     │ 3     │\n",
       "⋮\n",
       "│ 49410 │ 5     │ 1     │ 4     │ 2     │ 1     │ 2     │ 3     │ 3     │\n",
       "│ 49411 │ 5     │ 1     │ 4     │ 3     │ 1     │ 2     │ 3     │ 3     │\n",
       "│ 49412 │ 5     │ 1     │ 4     │ 3     │ 1     │ 2     │ 3     │ 3     │\n",
       "│ 49413 │ 5     │ 1     │ 4     │ 5     │ 1     │ 2     │ 3     │ 3     │\n",
       "│ 49414 │ 5     │ 1     │ 4     │ 2     │ 1     │ 2     │ 3     │ 3     │\n",
       "│ 49415 │ 5     │ 1     │ 4     │ 3     │ 1     │ 1     │ 1     │ 3     │\n",
       "│ 49416 │ 5     │ 1     │ 4     │ 2     │ 1     │ 1     │ 1     │ 4     │\n",
       "│ 49417 │ 5     │ 1     │ 4     │ 5     │ 1     │ 1     │ 1     │ 4     │\n",
       "│ 49418 │ 5     │ 1     │ 4     │ 2     │ 1     │ 1     │ 1     │ 4     │\n",
       "│ 49419 │ 5     │ 1     │ 4     │ 3     │ 1     │ 1     │ 1     │ 4     │\n",
       "│ 49420 │ 5     │ 1     │ 4     │ 2     │ 1     │ 1     │ 1     │ 5     │"
      ]
     },
     "execution_count": 31,
     "metadata": {},
     "output_type": "execute_result"
    }
   ],
   "source": [
    "testdata"
   ]
  },
  {
   "cell_type": "code",
   "execution_count": 32,
   "metadata": {},
   "outputs": [
    {
     "data": {
      "text/html": [
       "<p>DataFrameRow</p><table class=\"data-frame\"><thead><tr><th></th><th>x1</th><th>x2</th><th>x3</th><th>x4</th><th>x5</th><th>x6</th><th>x7</th><th>x8</th><th>x9</th></tr><tr><th></th><th>Int64</th><th>Int64</th><th>Int64</th><th>Int64</th><th>Int64</th><th>Int64</th><th>Int64</th><th>Int64</th><th>Int64</th></tr></thead><tbody><p>1 rows × 9 columns</p><tr><th>1</th><td>2</td><td>2</td><td>3</td><td>2</td><td>1</td><td>2</td><td>5</td><td>3</td><td>1</td></tr></tbody></table>"
      ],
      "text/latex": [
       "\\begin{tabular}{r|ccccccccc}\n",
       "\t& x1 & x2 & x3 & x4 & x5 & x6 & x7 & x8 & x9\\\\\n",
       "\t\\hline\n",
       "\t& Int64 & Int64 & Int64 & Int64 & Int64 & Int64 & Int64 & Int64 & Int64\\\\\n",
       "\t\\hline\n",
       "\t1 & 2 & 2 & 3 & 2 & 1 & 2 & 5 & 3 & 1 \\\\\n",
       "\\end{tabular}\n"
      ],
      "text/plain": [
       "DataFrameRow\n",
       "│ Row │ x1    │ x2    │ x3    │ x4    │ x5    │ x6    │ x7    │ x8    │ x9    │\n",
       "│     │ \u001b[90mInt64\u001b[39m │ \u001b[90mInt64\u001b[39m │ \u001b[90mInt64\u001b[39m │ \u001b[90mInt64\u001b[39m │ \u001b[90mInt64\u001b[39m │ \u001b[90mInt64\u001b[39m │ \u001b[90mInt64\u001b[39m │ \u001b[90mInt64\u001b[39m │ \u001b[90mInt64\u001b[39m │\n",
       "├─────┼───────┼───────┼───────┼───────┼───────┼───────┼───────┼───────┼───────┤\n",
       "│ 1   │ 2     │ 2     │ 3     │ 2     │ 1     │ 2     │ 5     │ 3     │ 1     │"
      ]
     },
     "execution_count": 32,
     "metadata": {},
     "output_type": "execute_result"
    }
   ],
   "source": [
    "featureline"
   ]
  },
  {
   "cell_type": "code",
   "execution_count": 34,
   "metadata": {},
   "outputs": [
    {
     "data": {
      "text/plain": [
       "DataFrame"
      ]
     },
     "execution_count": 34,
     "metadata": {},
     "output_type": "execute_result"
    }
   ],
   "source": [
    "typeof(DataFrame(featureline))"
   ]
  },
  {
   "cell_type": "code",
   "execution_count": null,
   "metadata": {},
   "outputs": [],
   "source": []
  }
 ],
 "metadata": {
  "kernelspec": {
   "display_name": "Julia 1.1.0",
   "language": "julia",
   "name": "julia-1.1"
  },
  "language_info": {
   "file_extension": ".jl",
   "mimetype": "application/julia",
   "name": "julia",
   "version": "1.1.0"
  }
 },
 "nbformat": 4,
 "nbformat_minor": 2
}
